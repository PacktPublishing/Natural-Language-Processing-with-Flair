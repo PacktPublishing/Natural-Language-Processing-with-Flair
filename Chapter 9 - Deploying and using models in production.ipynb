{
 "cells": [
  {
   "cell_type": "markdown",
   "metadata": {},
   "source": [
    "# Chapter 9 - Deploying and using models in production"
   ]
  },
  {
   "cell_type": "markdown",
   "metadata": {},
   "source": [
    "This Jupyter notebook provides a resource to help you follow the code examples from the book more easily. The notebook covers all practical code snippets and exercises found in: Chapter 9 - Deploying and using models in production"
   ]
  },
  {
   "attachments": {},
   "cell_type": "markdown",
   "metadata": {},
   "source": [
    "## Self-serving Flair models"
   ]
  },
  {
   "attachments": {},
   "cell_type": "markdown",
   "metadata": {},
   "source": [
    "### Installing required libraries"
   ]
  },
  {
   "cell_type": "code",
   "execution_count": null,
   "metadata": {},
   "outputs": [],
   "source": [
    "!pip install flask==1.1.1"
   ]
  },
  {
   "cell_type": "markdown",
   "metadata": {},
   "source": [
    "### Defining the sequence labelling function"
   ]
  },
  {
   "cell_type": "code",
   "execution_count": null,
   "metadata": {},
   "outputs": [],
   "source": [
    "from flair.data import Sentence\n",
    "from flair.models import SequenceTagger\n",
    "\n",
    "tagger = SequenceTagger.load('ner')\n",
    "\n",
    "def tag_text(input_text):\n",
    "    sentence = Sentence(input_text)\n",
    "    tagger.predict(sentence)\n",
    "    \n",
    "    return sentence.to_tagged_string()"
   ]
  },
  {
   "attachments": {},
   "cell_type": "markdown",
   "metadata": {},
   "source": [
    "### Defining the endpoint"
   ]
  },
  {
   "cell_type": "code",
   "execution_count": null,
   "metadata": {},
   "outputs": [],
   "source": [
    "from flask import Flask, jsonify, request\n",
    "\n",
    "app = Flask(__name__)\n",
    "\n",
    "@app.route('/ner-service')\n",
    "def query_example():\n",
    "    text = request.args.get('input', '')\n",
    "    \n",
    "    tagged_text = tag_text(text)\n",
    "\n",
    "    return jsonify({\"result\": tagged_text})"
   ]
  },
  {
   "cell_type": "markdown",
   "metadata": {},
   "source": [
    "### Starting the service"
   ]
  },
  {
   "cell_type": "code",
   "execution_count": null,
   "metadata": {},
   "outputs": [],
   "source": [
    "app.run(debug=False, port=5002)\n",
    "\n",
    "# visit http://localhost:5002/ner-service?input=Never+been+to+Lima to see resuls"
   ]
  },
  {
   "cell_type": "markdown",
   "metadata": {},
   "source": [
    "## Using managed services for deploying and using Flair models"
   ]
  },
  {
   "cell_type": "markdown",
   "metadata": {},
   "source": [
    "### Hugging Face Models Hub"
   ]
  },
  {
   "cell_type": "markdown",
   "metadata": {},
   "source": [
    "#### Training a mock Flair model"
   ]
  },
  {
   "cell_type": "code",
   "execution_count": null,
   "metadata": {},
   "outputs": [],
   "source": [
    "from flair.datasets import UD_ENGLISH\n",
    "\n",
    "corpus = UD_ENGLISH().downsample(0.001)\n",
    "\n",
    "lbl_type = 'upos'\n",
    "label_dict = corpus.make_label_dictionary(label_type=lbl_type)"
   ]
  },
  {
   "cell_type": "code",
   "execution_count": null,
   "metadata": {},
   "outputs": [],
   "source": [
    "from flair.embeddings import CharacterEmbeddings\n",
    "\n",
    "# lightweight embeddings to get a tiny, but useless model\n",
    "embedding = CharacterEmbeddings()"
   ]
  },
  {
   "cell_type": "code",
   "execution_count": null,
   "metadata": {},
   "outputs": [],
   "source": [
    "from flair.models import SequenceTagger\n",
    "from flair.trainers import ModelTrainer\n",
    "\n",
    "# one-dimensional hidden_size to produce a tiny model\n",
    "tagger = SequenceTagger(embeddings=embedding,\n",
    "                        tag_dictionary=label_dict,\n",
    "                        tag_type=lbl_type,\n",
    "                        hidden_size=1)\n",
    "\n",
    "trainer = ModelTrainer(tagger, corpus)\n",
    "\n",
    "# train for only one epoch as quality does not matter here \n",
    "trainer.train('tiny_model', max_epochs=1)"
   ]
  },
  {
   "cell_type": "markdown",
   "metadata": {},
   "source": [
    "#### Using the model as part of the Accelerated Inference API"
   ]
  },
  {
   "cell_type": "code",
   "execution_count": null,
   "metadata": {},
   "outputs": [],
   "source": [
    "import requests\n",
    "\n",
    "API_URL = \"https://api-inference.huggingface.co/models/flairbook/flairmodel\"  # make sure to replace the url\n",
    "h = {\"Authorization\": \"Bearer <TOKEN>\"}  # make sure to replace the token\n",
    "\n",
    "def query(payload):\n",
    "    response = requests.post(API_URL, headers=h, json=payload)\n",
    "    return response.json()\n",
    "\n",
    "print(query({\"inputs\": \"abc def\"}))\n"
   ]
  },
  {
   "cell_type": "markdown",
   "metadata": {},
   "source": [
    "#### Using public Hugging Face hub models inside Flair"
   ]
  },
  {
   "cell_type": "code",
   "execution_count": null,
   "metadata": {},
   "outputs": [],
   "source": [
    "from flair.data import Sentence\n",
    "from flair.models import SequenceTagger\n",
    "\n",
    "tagger = SequenceTagger.load('flairbook/flairmodel')  # make sure to use your own model key\n",
    "\n",
    "sentence = Sentence('abc')\n",
    "tagger.predict(sentence)\n",
    "\n",
    "print(sentence.to_tagged_string())"
   ]
  }
 ],
 "metadata": {
  "kernelspec": {
   "display_name": "Python 3",
   "language": "python",
   "name": "python3"
  },
  "language_info": {
   "codemirror_mode": {
    "name": "ipython",
    "version": 3
   },
   "file_extension": ".py",
   "mimetype": "text/x-python",
   "name": "python",
   "nbconvert_exporter": "python",
   "pygments_lexer": "ipython3",
   "version": "3.7.6"
  }
 },
 "nbformat": 4,
 "nbformat_minor": 4
}
