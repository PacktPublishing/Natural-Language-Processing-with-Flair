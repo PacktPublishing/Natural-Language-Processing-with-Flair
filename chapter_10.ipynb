{
 "cells": [
  {
   "cell_type": "markdown",
   "metadata": {},
   "source": [
    "# Chapter 10 - Hands-on exercise - Building a trading bot with Flair"
   ]
  },
  {
   "cell_type": "markdown",
   "metadata": {},
   "source": [
    "This Jupyter notebook provides a resource to help you follow the code examples from the book more easily. The notebook covers all practical code snippets and exercises found in: Chapter 10 - Hands-on exercise - Building a trading bot with Flair"
   ]
  },
  {
   "cell_type": "markdown",
   "metadata": {},
   "source": [
    "## Implementing the Flair trading bot"
   ]
  },
  {
   "cell_type": "code",
   "execution_count": null,
   "metadata": {},
   "outputs": [],
   "source": [
    "from flair.data import Sentence\n",
    "from flair.models import SequenceTagger\n",
    "from flair.models import TextClassifier\n",
    "\n",
    "class FlairTrader:\n",
    "    def __init__(self, company_name):\n",
    "        self.company_name = company_name\n",
    "        self.tagger = SequenceTagger.load('ner')\n",
    "        self.classifier = TextClassifier.load('en-sentiment')\n",
    "\n",
    "    def _references_company(self, text):\n",
    "        sentence = Sentence(text)\n",
    "        self.tagger.predict(sentence)\n",
    "\n",
    "        for token in sentence.get_labels('ner'):\n",
    "            if (token.value == \"ORG\" and\n",
    "                token.data_point.text == self.company_name):\n",
    "                return True\n",
    "\n",
    "        return False\n",
    "    \n",
    "    def buy_or_sell(self, text):\n",
    "        if self._references_company(text):\n",
    "            sentence = Sentence(text)\n",
    "            self.classifier.predict(sentence)\n",
    "\n",
    "            if sentence.labels[0].value == \"POSITIVE\":\n",
    "                return \"buy\"\n",
    "            elif sentence.labels[0].value == \"NEGATIVE\":\n",
    "                return \"sell\"\n",
    "        else:\n",
    "            return \"hold\""
   ]
  },
  {
   "cell_type": "code",
   "execution_count": null,
   "metadata": {},
   "outputs": [],
   "source": [
    "ft = FlairTrader(\"amazon\")"
   ]
  },
  {
   "cell_type": "code",
   "execution_count": null,
   "metadata": {},
   "outputs": [],
   "source": [
    "print(ft._references_company(\"amazon river is deadly\"))"
   ]
  },
  {
   "cell_type": "code",
   "execution_count": null,
   "metadata": {},
   "outputs": [],
   "source": [
    "print(ft._references_company(\"amazon company is underpaying staff\"))"
   ]
  },
  {
   "cell_type": "code",
   "execution_count": null,
   "metadata": {},
   "outputs": [],
   "source": [
    "print(ft._references_company(\"amazon deforestation is bad\"))"
   ]
  },
  {
   "cell_type": "code",
   "execution_count": null,
   "metadata": {},
   "outputs": [],
   "source": [
    "ft = FlairTrader(\"apple\")"
   ]
  },
  {
   "cell_type": "code",
   "execution_count": null,
   "metadata": {},
   "outputs": [],
   "source": [
    "print(ft.buy_or_sell(\"this year's apple harvest\"))"
   ]
  },
  {
   "cell_type": "code",
   "execution_count": null,
   "metadata": {},
   "outputs": [],
   "source": [
    "print(ft.buy_or_sell(\"apple stock is doing great\"))"
   ]
  },
  {
   "cell_type": "code",
   "execution_count": null,
   "metadata": {},
   "outputs": [],
   "source": [
    "print(ft.buy_or_sell(\"apple shows steady growth\"))"
   ]
  },
  {
   "cell_type": "code",
   "execution_count": null,
   "metadata": {},
   "outputs": [],
   "source": [
    "print(ft.buy_or_sell(\"apple is being sued by the EU\"))"
   ]
  }
 ],
 "metadata": {
  "kernelspec": {
   "display_name": "Python 3",
   "language": "python",
   "name": "python3"
  },
  "language_info": {
   "codemirror_mode": {
    "name": "ipython",
    "version": 3
   },
   "file_extension": ".py",
   "mimetype": "text/x-python",
   "name": "python",
   "nbconvert_exporter": "python",
   "pygments_lexer": "ipython3",
   "version": "3.8.1"
  }
 },
 "nbformat": 4,
 "nbformat_minor": 4
}
