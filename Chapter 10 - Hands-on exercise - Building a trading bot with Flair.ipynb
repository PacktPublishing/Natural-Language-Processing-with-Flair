{
 "cells": [
  {
   "cell_type": "code",
   "execution_count": null,
   "metadata": {},
   "outputs": [],
   "source": [
    "from flair.data import Sentence\n",
    "from flair.models import SequenceTagger\n",
    "from flair.models import TextClassifier\n",
    "\n",
    "class FlairTrader:\n",
    "    def __init__(self, company_name, ticker):\n",
    "        self.company_name = company_name\n",
    "        self.ticker = ticker\n",
    "        self.tagger = SequenceTagger.load('ner')\n",
    "        self.classifier = TextClassifier.load('en-sentiment')\n",
    "        \n",
    "        \n",
    "    def _references_company(self, text):\n",
    "        sentence = Sentence(text)\n",
    "        self.tagger.predict(sentence)\n",
    "\n",
    "        for token in sentence.get_labels('ner'):\n",
    "            if (token.value == \"ORG\" and\n",
    "                token.span.text == self.company_name):\n",
    "                return True\n",
    "\n",
    "        return False\n",
    "    \n",
    "    def buy_or_sell(self, text):\n",
    "        if self._references_company(text):\n",
    "            sentence = Sentence(text)\n",
    "            self.classifier.predict(sentence)\n",
    "\n",
    "            if sentence.labels[0].value == \"POSITIVE\":\n",
    "                return \"buy\"\n",
    "            elif sentence.labels[0].value == \"NEGATIVE\":\n",
    "                return \"sell\"\n",
    "        else:\n",
    "            return \"hold\""
   ]
  },
  {
   "cell_type": "code",
   "execution_count": null,
   "metadata": {},
   "outputs": [],
   "source": [
    "import pandas as pd\n",
    "\n",
    "url = (\"https://github.com/PacktPublishing/Natural-Language-\"\n",
    "       \"Processing-with-Flair/blob/nlp-with-flair/data/milli\"\n",
    "       \"on_articles_cc0_license.csv?raw=true\")\n",
    "\n",
    "df = pd.read_csv(url, parse_dates=['publish_date'])\n",
    "df = df[df['headline_text'].str.contains('tesla')]\n",
    "df = df.drop_duplicates(subset=['publish_date'])\n",
    "df[\"publish_date\"] = df[\"publish_date\"].astype(str)\n",
    "df = df.set_index(\"publish_date\")\n",
    "\n",
    "headlines = df[\"headline_text\"].to_dict()"
   ]
  },
  {
   "cell_type": "code",
   "execution_count": null,
   "metadata": {},
   "outputs": [],
   "source": [
    "import yfinance as yf\n",
    "import backtrader as bt\n",
    "\n",
    "yf_dataset = yf.download('TSLA',\n",
    "                         '2016-01-01',\n",
    "                         '2017-01-01')\n",
    "\n",
    "stock_data = bt.feeds.PandasData(dataname=yf_dataset)"
   ]
  },
  {
   "cell_type": "code",
   "execution_count": null,
   "metadata": {},
   "outputs": [],
   "source": [
    "from datetime import datetime\n",
    "import backtrader as bt\n",
    "import random\n",
    "\n",
    "class FlairTradeStrategy(bt.Strategy):\n",
    "    params = (('flair_trader', None), ('headlines', None))\n",
    "    \n",
    "    def next(self):\n",
    "        headline = self.p.headlines.get(\n",
    "            str(self.datetime.date()))\n",
    "        if headline:\n",
    "            action = self.p.flair_trader.buy_or_sell(headline)\n",
    "\n",
    "            if action == \"buy\":\n",
    "                self.buy()\n",
    "            if action == \"sell\":\n",
    "                self.sell()        "
   ]
  },
  {
   "cell_type": "code",
   "execution_count": null,
   "metadata": {},
   "outputs": [],
   "source": [
    "trader = bt.Cerebro()\n",
    "trader.broker.setcash(100)\n",
    "trader.adddata(stock_data)\n",
    "\n",
    "flair_trader = FlairTrader(\"tesla\", \"TSLA\")\n",
    "trader.addstrategy(FlairTradeStrategy,\n",
    "                   flair_trader=flair_trader,\n",
    "                   headlines=headlines)\n",
    "trader.run()\n",
    "trader.plot()[0][0].savefig('result.png', dpi=300)"
   ]
  }
 ],
 "metadata": {
  "kernelspec": {
   "display_name": "Python 3",
   "language": "python",
   "name": "python3"
  },
  "language_info": {
   "codemirror_mode": {
    "name": "ipython",
    "version": 3
   },
   "file_extension": ".py",
   "mimetype": "text/x-python",
   "name": "python",
   "nbconvert_exporter": "python",
   "pygments_lexer": "ipython3",
   "version": "3.8.1"
  }
 },
 "nbformat": 4,
 "nbformat_minor": 4
}
