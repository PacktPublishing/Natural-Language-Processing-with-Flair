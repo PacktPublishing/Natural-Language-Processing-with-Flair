{
 "cells": [
  {
   "cell_type": "markdown",
   "metadata": {},
   "source": [
    "# Chapter 7 - Training Flair Embeddings"
   ]
  },
  {
   "cell_type": "markdown",
   "metadata": {},
   "source": [
    "This Jupyter notebook provides a resource to help you follow the code examples from the book more easily. The notebook covers all practical code snippets and exercises found in: Chapter 7 - Training Flair Embeddings."
   ]
  },
  {
   "cell_type": "markdown",
   "metadata": {},
   "source": [
    "# Training Flair Embeddings"
   ]
  },
  {
   "cell_type": "code",
   "execution_count": null,
   "metadata": {},
   "outputs": [],
   "source": [
    "from flair.data import Dictionary\n",
    "from flair.models import LanguageModel\n",
    "from flair.trainers.language_model_trainer import LanguageModelTrainer, TextCorpus\n",
    "\n",
    "# are you training a forward or backward LM?\n",
    "is_forward_lm = True\n",
    "\n",
    "# load the default character dictionary\n",
    "dictionary: Dictionary = Dictionary.load('chars')\n",
    "\n",
    "# get your corpus, process forward and at the character level\n",
    "corpus = TextCorpus('/path/to/your/corpus',\n",
    "                    dictionary,\n",
    "                    is_forward_lm,\n",
    "                    character_level=True)\n",
    "\n",
    "# instantiate your language model, set hidden size and number of layers\n",
    "language_model = LanguageModel(dictionary,\n",
    "                               is_forward_lm,\n",
    "                               hidden_size=128,\n",
    "                               nlayers=1)\n",
    "\n",
    "# train your language model\n",
    "trainer = LanguageModelTrainer(language_model, corpus)\n",
    "\n",
    "trainer.train('resources/taggers/language_model',\n",
    "              sequence_length=10,\n",
    "              mini_batch_size=10,\n",
    "              max_epochs=10)"
   ]
  }
 ],
 "metadata": {
  "kernelspec": {
   "display_name": "Python 3",
   "language": "python",
   "name": "python3"
  },
  "language_info": {
   "codemirror_mode": {
    "name": "ipython",
    "version": 3
   },
   "file_extension": ".py",
   "mimetype": "text/x-python",
   "name": "python",
   "nbconvert_exporter": "python",
   "pygments_lexer": "ipython3",
   "version": "3.7.6"
  }
 },
 "nbformat": 4,
 "nbformat_minor": 4
}
