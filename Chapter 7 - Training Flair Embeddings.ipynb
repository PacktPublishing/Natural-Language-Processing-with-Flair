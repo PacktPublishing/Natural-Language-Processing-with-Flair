{
 "cells": [
  {
   "cell_type": "markdown",
   "metadata": {},
   "source": [
    "# Chapter 7 - Training Flair Embeddings"
   ]
  },
  {
   "cell_type": "markdown",
   "metadata": {},
   "source": [
    "This Jupyter notebook provides a resource to help you follow the code examples from the book more easily. The notebook covers all practical code snippets and exercises found in: Chapter 7 - Training Flair Embeddings."
   ]
  },
  {
   "cell_type": "markdown",
   "metadata": {},
   "source": [
    "## Training Flair embeddings on the world’s smallest language"
   ]
  },
  {
   "cell_type": "markdown",
   "metadata": {},
   "source": [
    "### Preparing the dictionary"
   ]
  },
  {
   "cell_type": "code",
   "execution_count": null,
   "metadata": {},
   "outputs": [],
   "source": [
    "from flair.data import Dictionary\n",
    "\n",
    "dictionary = Dictionary.load('chars')"
   ]
  },
  {
   "cell_type": "code",
   "execution_count": null,
   "metadata": {},
   "outputs": [],
   "source": [
    "from flair.data import Dictionary\n",
    "\n",
    "dictionary = Dictionary()\n",
    "toki_pona_symbols = 'ptksmnljwaeiou'\n",
    "toki_pona_symbols += toki_pona_symbols.upper()\n",
    "\n",
    "for c in toki_pona_symbols + '?. ':\n",
    "    dictionary.add_item(c)"
   ]
  },
  {
   "cell_type": "markdown",
   "metadata": {},
   "source": [
    "### Preparing the corpus"
   ]
  },
  {
   "cell_type": "code",
   "execution_count": null,
   "metadata": {},
   "outputs": [],
   "source": [
    "import requests\n",
    "\n",
    "response = requests.get(\"https://git.io/J1dgd\")\n",
    "\n",
    "sentences = response.text.splitlines()\n",
    "one_tenth_corp_len = int(len(sentences)/10)\n",
    "\n",
    "test, valid, train = (\n",
    "    sentences[:one_tenth_corp_len],\n",
    "    sentences[one_tenth_corp_len:one_tenth_corp_len*2],\n",
    "    sentences[one_tenth_corp_len*2:])"
   ]
  },
  {
   "cell_type": "code",
   "execution_count": null,
   "metadata": {},
   "outputs": [],
   "source": [
    "from tempfile import TemporaryDirectory\n",
    "from os.path import join\n",
    "from os import mkdir\n",
    "\n",
    "dataset_dir_obj = TemporaryDirectory()\n",
    "dataset_dir = dataset_dir_obj.name\n",
    "train_dir = join(dataset_dir, 'train')\n",
    "mkdir(train_dir)\n",
    "\n",
    "with open(join(dataset_dir, \"test.txt\"), \"w\") as file:\n",
    "    file.write(' '.join(test))\n",
    "\n",
    "with open(join(dataset_dir, \"valid.txt\"), \"w\") as file:\n",
    "    file.write(' '.join(valid))\n",
    "\n",
    "with open(join(train_dir, \"train_split_1\"), \"w\") as file:\n",
    "    file.write(' '.join(train))"
   ]
  },
  {
   "cell_type": "code",
   "execution_count": null,
   "metadata": {},
   "outputs": [],
   "source": [
    "from flair.trainers.language_model_trainer import TextCorpus\n",
    "\n",
    "corpus = TextCorpus(dataset_dir,\n",
    "                    dictionary,\n",
    "                    forward=True,\n",
    "                    character_level=True)"
   ]
  },
  {
   "cell_type": "markdown",
   "metadata": {},
   "source": [
    "### Training the language model"
   ]
  },
  {
   "cell_type": "code",
   "execution_count": null,
   "metadata": {},
   "outputs": [],
   "source": [
    "from flair.models import LanguageModel\n",
    "from flair.trainers.language_model_trainer import (\n",
    "    LanguageModelTrainer)\n",
    "\n",
    "language_model = LanguageModel(dictionary,\n",
    "                               is_forward_lm=True,\n",
    "                               hidden_size=64,\n",
    "                               nlayers=1)\n",
    "\n",
    "trainer = LanguageModelTrainer(language_model, corpus)\n",
    "trainer.train('forward_model_directory',\n",
    "              sequence_length=25,\n",
    "              mini_batch_size=10,\n",
    "              max_epochs=100)"
   ]
  },
  {
   "cell_type": "code",
   "execution_count": null,
   "metadata": {},
   "outputs": [],
   "source": [
    "t = language_model.generate_text(number_of_characters=40)[0]\n",
    "print(t)"
   ]
  },
  {
   "cell_type": "markdown",
   "metadata": {},
   "source": [
    "### Using custom embeddings on downstream tasks"
   ]
  },
  {
   "cell_type": "code",
   "execution_count": null,
   "metadata": {},
   "outputs": [],
   "source": [
    "from flair.embeddings import FlairEmbeddings\n",
    "\n",
    "fw = FlairEmbeddings('forward_model_directory/best-lm.pt')"
   ]
  },
  {
   "cell_type": "markdown",
   "metadata": {},
   "source": [
    "### Performing intrinsic evaluation on custom Flair embeddings"
   ]
  },
  {
   "cell_type": "code",
   "execution_count": null,
   "metadata": {},
   "outputs": [],
   "source": [
    "from flair.embeddings import FlairEmbeddings\n",
    "from flair.data import Sentence\n",
    "\n",
    "synonym_1 = Sentence('lukin')\n",
    "synonym_2 = Sentence('oko')\n",
    "rand_word = Sentence('jan')\n",
    "\n",
    "fw = FlairEmbeddings('forward_model_directory/best-lm.pt')\n",
    "fw.embed(synonym_1)\n",
    "fw.embed(synonym_2)\n",
    "fw.embed(rand_word)\n",
    "\n",
    "embedding_syn_1 = synonym_1[0].embedding.tolist()\n",
    "embedding_syn_2 = synonym_2[0].embedding.tolist()\n",
    "embedding_rnd_wrd = rand_word[0].embedding.tolist()"
   ]
  },
  {
   "cell_type": "code",
   "execution_count": null,
   "metadata": {},
   "outputs": [],
   "source": [
    "from sklearn.metrics.pairwise import cosine_similarity as sim\n",
    "\n",
    "s_synonym = sim([embedding_syn_1], [embedding_syn_2])[0][0] \n",
    "s_rand_1 = sim([embedding_syn_1], [embedding_rnd_wrd])[0][0]\n",
    "s_rand_2 = sim([embedding_syn_2], [embedding_rnd_wrd])[0][0]"
   ]
  }
 ],
 "metadata": {
  "kernelspec": {
   "display_name": "Python 3",
   "language": "python",
   "name": "python3"
  },
  "language_info": {
   "codemirror_mode": {
    "name": "ipython",
    "version": 3
   },
   "file_extension": ".py",
   "mimetype": "text/x-python",
   "name": "python",
   "nbconvert_exporter": "python",
   "pygments_lexer": "ipython3",
   "version": "3.7.6"
  }
 },
 "nbformat": 4,
 "nbformat_minor": 4
}
