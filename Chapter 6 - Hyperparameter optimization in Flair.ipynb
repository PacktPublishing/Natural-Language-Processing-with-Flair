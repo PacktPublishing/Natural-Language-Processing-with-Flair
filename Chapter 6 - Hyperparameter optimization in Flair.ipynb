{
 "cells": [
  {
   "cell_type": "markdown",
   "metadata": {},
   "source": [
    "# Chapter 6 - Hyperparameter optimization in Flair"
   ]
  },
  {
   "cell_type": "markdown",
   "metadata": {},
   "source": [
    "This Jupyter notebook provides a resource to help you follow the code examples from the book more easily. The notebook covers all practical code snippets and exercises found in: Chapter 6 - Hyperparameter optimization in Flair."
   ]
  },
  {
   "attachments": {},
   "cell_type": "markdown",
   "metadata": {},
   "source": [
    "# Hyperparameter tuning - when there are too many options to choose from"
   ]
  },
  {
   "attachments": {},
   "cell_type": "markdown",
   "metadata": {},
   "source": [
    "## Hyperparameter tuning in Python"
   ]
  },
  {
   "cell_type": "code",
   "execution_count": null,
   "metadata": {},
   "outputs": [],
   "source": [
    "def objective(value):\n",
    "    return value ** 2"
   ]
  },
  {
   "cell_type": "code",
   "execution_count": null,
   "metadata": {},
   "outputs": [],
   "source": [
    "from hyperopt import hp\n",
    "\n",
    "\n",
    "# define the search space for a single hyperparameter\n",
    "space = hp.uniform('param1', -100, 100)"
   ]
  },
  {
   "cell_type": "code",
   "execution_count": null,
   "metadata": {},
   "outputs": [],
   "source": [
    "from hyperopt import tpe\n",
    "\n",
    "\n",
    "# choose the Tree of Parzen Estimators (TPE) algorithm\n",
    "optimization_method = tpe.suggest"
   ]
  },
  {
   "cell_type": "code",
   "execution_count": null,
   "metadata": {},
   "outputs": [],
   "source": [
    "from hyperopt import fmin\n",
    "\n",
    "\n",
    "# minimize the objective function over 1000 evaluations\n",
    "best_params = fmin(objective,\n",
    "                   space,\n",
    "                   algo=optimization_method,\n",
    "                   max_evals=1000)\n",
    "\n",
    "# print the best hyperparameter value\n",
    "print(best_params)"
   ]
  },
  {
   "attachments": {},
   "cell_type": "markdown",
   "metadata": {},
   "source": [
    "## Hyperparameter optimization in Flair"
   ]
  },
  {
   "attachments": {},
   "cell_type": "markdown",
   "metadata": {},
   "source": [
    "### Hyperparameter tuning in Flair hands on"
   ]
  },
  {
   "cell_type": "code",
   "execution_count": null,
   "metadata": {},
   "outputs": [],
   "source": [
    "from flair.data import Corpus\n",
    "from flair.datasets import UD_ENGLISH\n",
    "\n",
    "corpus = UD_ENGLISH()\n",
    "\n",
    "tag_type = 'pos'\n",
    "\n",
    "# downsample the corpus to 1% of original size\n",
    "corpus.downsample(0.01)"
   ]
  },
  {
   "cell_type": "code",
   "execution_count": null,
   "metadata": {},
   "outputs": [],
   "source": [
    "from flair.embeddings import WordEmbeddings\n",
    "from flair.hyperparameter.param_selection import SearchSpace, Parameter\n",
    "from hyperopt import hp\n",
    "\n",
    "search_space = SearchSpace()\n",
    "search_space.add(Parameter.HIDDEN_SIZE,\n",
    "                 hp.choice,\n",
    "                 options=[128, 256])\n",
    "search_space.add(Parameter.LEARNING_RATE,\n",
    "                 hp.choice,\n",
    "                 options=[0.05, 0.1, 0.15, 0.2])\n",
    "search_space.add(Parameter.EMBEDDINGS,\n",
    "                 hp.choice,\n",
    "                 options=([WordEmbeddings('en')]))"
   ]
  },
  {
   "cell_type": "code",
   "execution_count": null,
   "metadata": {},
   "outputs": [],
   "source": [
    "from flair.hyperparameter.param_selection import \\\n",
    "  SequenceTaggerParamSelector\n",
    "\n",
    "\n",
    "param_selector = SequenceTaggerParamSelector(corpus,\n",
    "                                             tag_type,\n",
    "                                             'paramopt') "
   ]
  },
  {
   "cell_type": "code",
   "execution_count": null,
   "metadata": {},
   "outputs": [],
   "source": [
    "param_selector.optimize(search_space, max_evals=8)"
   ]
  }
 ],
 "metadata": {
  "kernelspec": {
   "display_name": "Python 3",
   "language": "python",
   "name": "python3"
  },
  "language_info": {
   "codemirror_mode": {
    "name": "ipython",
    "version": 3
   },
   "file_extension": ".py",
   "mimetype": "text/x-python",
   "name": "python",
   "nbconvert_exporter": "python",
   "pygments_lexer": "ipython3",
   "version": "3.7.6"
  }
 },
 "nbformat": 4,
 "nbformat_minor": 4
}
